{
 "cells": [
  {
   "cell_type": "code",
   "execution_count": 1,
   "metadata": {},
   "outputs": [],
   "source": [
    "\"\"\"\n",
    "Assignment_11.11438 To Do : - It happens all the time: someone gives you data containing malformed strings, Python,\n",
    "lists and missing data. How do you tidy it up so you can get on with the analysis?\n",
    "Take this monstrosity as the DataFrame to use in the following puzzles:\n",
    "df = pd.DataFrame({'From_To': ['LoNDon_paris', 'MAdrid_miLAN', 'londON_StockhOlm',\n",
    "'Budapest_PaRis', 'Brussels_londOn'],\n",
    "'FlightNumber': [10045, np.nan, 10065, np.nan, 10085],\n",
    "'RecentDelays': [[23, 47], [], [24, 43, 87], [13], [67, 32]],\n",
    "'Airline': ['KLM(!)', '<Air France> (12)', '(British Airways. )',\n",
    "'12. Air France', '\"Swiss Air\"']})\n",
    "\n",
    "1. Some values in the the FlightNumber column are missing. These numbers are meant\n",
    "to increase by 10 with each row so 10055 and 10075 need to be put in place. Fill in\n",
    "these missing numbers and make the column an integer column (instead of a float\n",
    "column).\n",
    "2. The From_To column would be better as two separate columns! Split each string on\n",
    "the underscore delimiter _ to give a new temporary DataFrame with the correct values.\n",
    "Assign the correct column names to this temporary DataFrame.\n",
    "3. Notice how the capitalisation of the city names is all mixed up in this temporary\n",
    "DataFrame. Standardise the strings so that only the first letter is uppercase (e.g.\n",
    "\"londON\" should become \"London\".)\n",
    "4. Delete the From_To column from df and attach the temporary DataFrame from the\n",
    "previous questions.\n",
    "5. In the RecentDelays column, the values have been entered into the DataFrame as a\n",
    "list. We would like each first value in its own column, each second value in its own\n",
    "column, and so on. If there isn't an Nth value, the value should be NaN.\n",
    "Expand the Series of lists into a DataFrame named delays, rename the columns delay_1,\n",
    "delay_2, etc. and replace the unwanted RecentDelays column in df with delays.\n",
    "\"\"\"\n",
    "import pandas as pd\n",
    "import numpy as np\n",
    "flights = pd.DataFrame({'From_To': ['LoNDon_paris', 'MAdrid_miLAN', 'londON_StockhOlm','Budapest_PaRis', 'Brussels_londOn'],\n",
    "'FlightNumber': [10045, np.nan, 10065, np.nan, 10085],\n",
    "'RecentDelays': [[23, 47], [], [24, 43, 87], [13], [67, 32]],\n",
    "'Airline': ['KLM(!)', '<Air France> (12)', '(British Airways. )','12. Air France', '\"Swiss Air\"']},columns=('From_To','FlightNumber','RecentDelays','Airline'))"
   ]
  },
  {
   "cell_type": "code",
   "execution_count": 2,
   "metadata": {},
   "outputs": [
    {
     "name": "stdout",
     "output_type": "stream",
     "text": [
      "Missing values in FlightNumber column is incremented by 10 with starting value as 10045\n",
      "---------------------------------------------------------------------------------------\n",
      "            From_To  FlightNumber  RecentDelays              Airline\n",
      "0      LoNDon_paris         10045      [23, 47]               KLM(!)\n",
      "1      MAdrid_miLAN         10055            []    <Air France> (12)\n",
      "2  londON_StockhOlm         10065  [24, 43, 87]  (British Airways. )\n",
      "3    Budapest_PaRis         10075          [13]       12. Air France\n",
      "4   Brussels_londOn         10085      [67, 32]          \"Swiss Air\"\n",
      "---------------------------------------------------------------------------------------\n"
     ]
    }
   ],
   "source": [
    "#1. Missing values in FlightNumber column is incremented by 10 with starting value as 10045.\n",
    "print(\"Missing values in FlightNumber column is incremented by 10 with starting value as 10045\\n\",'-'*87, sep='')\n",
    "def create_list(x,y):\n",
    "    for i in range(1,y):\n",
    "        flights.loc[i,'FlightNumber'] = flights.loc[i-1,'FlightNumber']+10\n",
    "\n",
    "flights['FlightNumber'].fillna(0, inplace=True)\n",
    "flights['FlightNumber'] = flights['FlightNumber'].astype(int)\n",
    "First_Flightnumber = flights.loc[0,'FlightNumber']\n",
    "create_list(First_Flightnumber,len(flights.FlightNumber))\n",
    "print(flights)\n",
    "print('-'*87, sep='')"
   ]
  },
  {
   "cell_type": "code",
   "execution_count": 3,
   "metadata": {},
   "outputs": [
    {
     "name": "stdout",
     "output_type": "stream",
     "text": [
      "Splitting From_To column with delimiter as underscore and assign those columns and their associated values to a temporary dataframe\n",
      "-----------------------------------------------------------------------------------------------------------------------------\n",
      "       From         To\n",
      "0    LoNDon      paris\n",
      "1    MAdrid      miLAN\n",
      "2    londON  StockhOlm\n",
      "3  Budapest      PaRis\n",
      "4  Brussels     londOn\n",
      "-----------------------------------------------------------------------------------------------------------------------------\n"
     ]
    }
   ],
   "source": [
    "#2. Splitting From_To column with delimiter as underscore and assign those columns and their associated values to a temporary dataframe.\n",
    "print(\"Splitting From_To column with delimiter as underscore and assign those columns and their associated values to a temporary dataframe\\n\",'-'*125, sep='')\n",
    "def Fromsplitstring(str):\n",
    "    return str.split('_')[0]\n",
    "\n",
    "def Tosplitstring(str):\n",
    "    return str.split('_')[1]\n",
    "\n",
    "FromList = flights['From_To'].apply(Fromsplitstring)\n",
    "ToList = flights['From_To'].apply(Tosplitstring)\n",
    "#print(FromList)\n",
    "#print(ToList)\n",
    "temporary = pd.DataFrame()\n",
    "temporary[\"From\"] = FromList\n",
    "temporary[\"To\"] = ToList\n",
    "print(temporary)\n",
    "print('-'*125, sep='')"
   ]
  },
  {
   "cell_type": "code",
   "execution_count": 4,
   "metadata": {},
   "outputs": [
    {
     "name": "stdout",
     "output_type": "stream",
     "text": [
      "Make first letter of From and To column values of temporary dataframe as uppercase\n",
      "----------------------------------------------------------------------------------\n",
      "       From         To\n",
      "0    London      Paris\n",
      "1    Madrid      Milan\n",
      "2    London  Stockholm\n",
      "3  Budapest      Paris\n",
      "4  Brussels     London\n",
      "----------------------------------------------------------------------------------\n"
     ]
    }
   ],
   "source": [
    "#3. Make first letter of From and To column values of temporary dataframe as uppercase.\n",
    "print(\"Make first letter of From and To column values of temporary dataframe as uppercase\\n\",'-'*82, sep='')\n",
    "temporary['From'] = list(map(lambda str : str.title(),temporary.From))\n",
    "temporary['To'] = list(map(lambda str : str.title(),temporary.To))\n",
    "print(temporary)\n",
    "print('-'*82, sep='')"
   ]
  },
  {
   "cell_type": "code",
   "execution_count": 5,
   "metadata": {},
   "outputs": [
    {
     "name": "stdout",
     "output_type": "stream",
     "text": [
      "Delete the From_To column from flights dataframe and attach the temporary dataFrame with flights\n",
      "-----------------------------------------------------------------------------------------------\n",
      "       From         To  FlightNumber  RecentDelays              Airline\n",
      "0    London      Paris         10045      [23, 47]               KLM(!)\n",
      "1    Madrid      Milan         10055            []    <Air France> (12)\n",
      "2    London  Stockholm         10065  [24, 43, 87]  (British Airways. )\n",
      "3  Budapest      Paris         10075          [13]       12. Air France\n",
      "4  Brussels     London         10085      [67, 32]          \"Swiss Air\"\n",
      "-----------------------------------------------------------------------------------------------\n"
     ]
    }
   ],
   "source": [
    "#4. Delete the From_To column from flights dataframe and attach the temporary dataFrame with flights.\n",
    "print(\"Delete the From_To column from flights dataframe and attach the temporary dataFrame with flights\\n\",'-'*95, sep='')\n",
    "flights.drop('From_To', axis=1, inplace=True)\n",
    "flights = pd.concat([temporary, flights], axis=1)\n",
    "print(flights)\n",
    "print('-'*95, sep='')"
   ]
  },
  {
   "cell_type": "code",
   "execution_count": 9,
   "metadata": {},
   "outputs": [
    {
     "name": "stdout",
     "output_type": "stream",
     "text": [
      "Split RecentDelays column like delay_1,delay_2, etc. based on the maximum no. of elements present in the list among other lists and replace the unwanted RecentDelays column in flights dataframe with delays\n",
      "-------------------------------------------------------------------------------------------------------------------------------------------------------------------------------------------------------------\n",
      "       From         To  FlightNumber              Airline  delay_1  delay_2  \\\n",
      "0    London      Paris         10045               KLM(!)     23.0     47.0   \n",
      "1    Madrid      Milan         10055    <Air France> (12)      NaN      NaN   \n",
      "2    London  Stockholm         10065  (British Airways. )     24.0     43.0   \n",
      "3  Budapest      Paris         10075       12. Air France     13.0      NaN   \n",
      "4  Brussels     London         10085          \"Swiss Air\"     67.0     32.0   \n",
      "\n",
      "   delay_3  \n",
      "0      NaN  \n",
      "1      NaN  \n",
      "2     87.0  \n",
      "3      NaN  \n",
      "4      NaN  \n",
      "-------------------------------------------------------------------------------------------------------------------------------------------------------------------------------------------------------------\n"
     ]
    }
   ],
   "source": [
    "#5. Split RecentDelays column like delay_1,delay_2, etc. based on the maximum no. of elements present in the list among other lists and replace the unwanted RecentDelays column in flights dataframe with delays.\n",
    "print(\"Split RecentDelays column like delay_1,delay_2, etc. based on the maximum no. of elements present in the list among other lists and replace the unwanted RecentDelays column in flights dataframe with delays\\n\",'-'*205, sep='')\n",
    "def DelayListParse(x):\n",
    "    return len(x)   \n",
    "\n",
    "DelayList = list(map(lambda x : len(x),flights.RecentDelays))\n",
    "max_columns = max(DelayList)\n",
    "#print(DelayList)\n",
    "New_RecentDelays = []\n",
    "Two_dim_RecentDelays = []\n",
    "for outeritems in flights.RecentDelays:\n",
    "    New_RecentDelays = outeritems\n",
    "    count = len(outeritems)\n",
    "    while(count<max_columns):\n",
    "        New_RecentDelays.append(np.NaN)\n",
    "        count +=1\n",
    "    Two_dim_RecentDelays.append(New_RecentDelays)\n",
    "    \n",
    "#print(Two_dim_RecentDelays)\n",
    "Delays = pd.DataFrame(Two_dim_RecentDelays)\n",
    "column_list = []\n",
    "for count in range(1,max_columns+1):\n",
    "    column_list.append('delay_'+str(count))\n",
    "Delays.columns = column_list\n",
    "\n",
    "#print(Delays)\n",
    "flights.drop('RecentDelays', axis=1, inplace=True)\n",
    "flights = pd.concat([flights, Delays], axis=1)\n",
    "print(flights)\n",
    "print('-'*205, sep='')"
   ]
  }
 ],
 "metadata": {
  "kernelspec": {
   "display_name": "Python 3",
   "language": "python",
   "name": "python3"
  },
  "language_info": {
   "codemirror_mode": {
    "name": "ipython",
    "version": 3
   },
   "file_extension": ".py",
   "mimetype": "text/x-python",
   "name": "python",
   "nbconvert_exporter": "python",
   "pygments_lexer": "ipython3",
   "version": "3.7.0"
  }
 },
 "nbformat": 4,
 "nbformat_minor": 2
}
